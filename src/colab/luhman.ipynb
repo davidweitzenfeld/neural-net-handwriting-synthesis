{
  "nbformat": 4,
  "nbformat_minor": 0,
  "metadata": {
    "colab": {
      "name": "csc413-other.ipynb",
      "provenance": [],
      "collapsed_sections": [],
      "authorship_tag": "ABX9TyMJEeVBe8sObcybyv7Y7vi+",
      "include_colab_link": true
    },
    "kernelspec": {
      "name": "python3",
      "display_name": "Python 3"
    },
    "language_info": {
      "name": "python"
    },
    "accelerator": "GPU"
  },
  "cells": [
    {
      "cell_type": "markdown",
      "metadata": {
        "id": "view-in-github",
        "colab_type": "text"
      },
      "source": [
        "<a href=\"https://colab.research.google.com/github/davidweitzenfeld/neural-net-handwriting-synthesis/blob/master/src/colab/luhman.ipynb\" target=\"_parent\"><img src=\"https://colab.research.google.com/assets/colab-badge.svg\" alt=\"Open In Colab\"/></a>"
      ]
    },
    {
      "cell_type": "code",
      "metadata": {
        "id": "mjHrLj44XDJU"
      },
      "source": [
        "!git clone https://github.com/davidweitzenfeld/neural-net-handwriting-synthesis"
      ],
      "execution_count": null,
      "outputs": []
    },
    {
      "cell_type": "code",
      "metadata": {
        "id": "x97SisFFw6NK"
      },
      "source": [
        "!(cd neural-net-handwriting-synthesis && git pull)"
      ],
      "execution_count": null,
      "outputs": []
    },
    {
      "cell_type": "code",
      "metadata": {
        "id": "8pEr7QfUzixb"
      },
      "source": [
        "!(cd neural-net-handwriting-synthesis/tcl9876-diffusion-handwriting-generation/data && gdown https://drive.google.com/uc?id=1EFOZupgS-JIjpf5wkQY0pe7aMC9RbV5L -O test_strokes.p)"
      ],
      "execution_count": null,
      "outputs": []
    },
    {
      "cell_type": "code",
      "metadata": {
        "id": "nWe7gmLb0NN9"
      },
      "source": [
        "!(cd neural-net-handwriting-synthesis/tcl9876-diffusion-handwriting-generation/data && gdown https://drive.google.com/uc?id=1_jAmH5AfjYTsw6OFAL1UtAvlVogWunNs -O train_strokes.p)  "
      ],
      "execution_count": null,
      "outputs": []
    },
    {
      "cell_type": "code",
      "metadata": {
        "id": "tUzu1w9DXH2r"
      },
      "source": [
        "!(cd neural-net-handwriting-synthesis/tcl9876-diffusion-handwriting-generation && python train.py)"
      ],
      "execution_count": null,
      "outputs": []
    },
    {
      "cell_type": "code",
      "metadata": {
        "id": "QuoITJYukKv0"
      },
      "source": [
        "!(cd neural-net-handwriting-synthesis/tcl9876-diffusion-handwriting-generation && python inference.py --weights weights/model_step10000.h5 --textstring \"Lace became\" --name ./assets/sample --writersource ./assets/g06-150z-03.tif)"
      ],
      "execution_count": null,
      "outputs": []
    },
    {
      "cell_type": "code",
      "metadata": {
        "id": "proFBo6KjcJi"
      },
      "source": [
        "!zip -r neural-net-handwriting-synthesis/tcl9876-diffusion-handwriting-generation/lehman_base2.zip neural-net-handwriting-synthesis/tcl9876-diffusion-handwriting-generation/weights2"
      ],
      "execution_count": null,
      "outputs": []
    },
    {
      "cell_type": "code",
      "metadata": {
        "id": "3ERegy1ejvDW"
      },
      "source": [
        "from google.colab import auth\n",
        "from googleapiclient.http import MediaFileUpload\n",
        "from googleapiclient.discovery import build\n",
        "\n",
        "auth.authenticate_user()\n",
        "\n",
        "drive_service = build('drive', 'v3')\n",
        "\n",
        "def save_file_to_drive(name, path):\n",
        "    file_metadata = {\n",
        "      'name': name,\n",
        "      'mimeType': 'application/octet-stream'\n",
        "    }\n",
        "\n",
        "    media = MediaFileUpload(path, \n",
        "                    mimetype='application/octet-stream',\n",
        "                    resumable=True)\n",
        "\n",
        "    created = drive_service.files().create(body=file_metadata,\n",
        "                                   media_body=media,\n",
        "                                   fields='id').execute()\n",
        "\n",
        "    print('File ID: {}'.format(created.get('id')))\n",
        "\n",
        "    return created"
      ],
      "execution_count": null,
      "outputs": []
    },
    {
      "cell_type": "code",
      "metadata": {
        "id": "j-dQ01ODj1-v"
      },
      "source": [
        "save_file_to_drive('neural-net-handwriting-synthesis/tcl9876-diffusion-handwriting-generation/lehman_base2.zip', 'neural-net-handwriting-synthesis/tcl9876-diffusion-handwriting-generation/lehman_base.zip')"
      ],
      "execution_count": null,
      "outputs": []
    }
  ]
}