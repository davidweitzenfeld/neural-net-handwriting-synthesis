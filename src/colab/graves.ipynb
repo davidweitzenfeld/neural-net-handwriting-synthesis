{
  "nbformat": 4,
  "nbformat_minor": 0,
  "metadata": {
    "colab": {
      "name": "csc413-graves.ipynb",
      "provenance": [],
      "collapsed_sections": [],
      "authorship_tag": "ABX9TyNMkIeBuc5ZeXinTevPdjGq",
      "include_colab_link": true
    },
    "kernelspec": {
      "name": "python3",
      "display_name": "Python 3"
    },
    "language_info": {
      "name": "python"
    },
    "accelerator": "GPU"
  },
  "cells": [
    {
      "cell_type": "markdown",
      "metadata": {
        "id": "view-in-github",
        "colab_type": "text"
      },
      "source": [
        "<a href=\"https://colab.research.google.com/github/davidweitzenfeld/neural-net-handwriting-synthesis/blob/master/src/colab/graves.ipynb\" target=\"_parent\"><img src=\"https://colab.research.google.com/assets/colab-badge.svg\" alt=\"Open In Colab\"/></a>"
      ]
    },
    {
      "cell_type": "code",
      "metadata": {
        "id": "Dwoy2Yqzd3ki"
      },
      "source": [
        "%load_ext tensorboard"
      ],
      "execution_count": null,
      "outputs": []
    },
    {
      "cell_type": "code",
      "metadata": {
        "id": "B4Z3OHUzolXJ"
      },
      "source": [
        "!git clone https://github.com/davidweitzenfeld/neural-net-handwriting-synthesis"
      ],
      "execution_count": null,
      "outputs": []
    },
    {
      "cell_type": "code",
      "metadata": {
        "id": "zsoU2WW7uwgI"
      },
      "source": [
        "!rm -r neural-net-handwriting-synthesis"
      ],
      "execution_count": null,
      "outputs": []
    },
    {
      "cell_type": "code",
      "metadata": {
        "id": "84s4tgHIuKuV"
      },
      "source": [
        "!(cd neural-net-handwriting-synthesis && git pull)"
      ],
      "execution_count": null,
      "outputs": []
    },
    {
      "cell_type": "markdown",
      "metadata": {
        "id": "0YSDiJxUbkWT"
      },
      "source": [
        ""
      ]
    },
    {
      "cell_type": "code",
      "metadata": {
        "id": "hf8BGTLrp3He"
      },
      "source": [
        "!(cd neural-net-handwriting-synthesis/antoinedandi-handwriting-generation && python train.py -c config_graves.json)"
      ],
      "execution_count": null,
      "outputs": []
    },
    {
      "cell_type": "code",
      "metadata": {
        "id": "nw_ocNkhxfOH"
      },
      "source": [
        "!(cd neural-net-handwriting-synthesis/antoinedandi-handwriting-generation && python experiments.py -r saved/models/GravesModel/0420_045043/checkpoint-epoch25.pth)"
      ],
      "execution_count": null,
      "outputs": []
    },
    {
      "cell_type": "code",
      "metadata": {
        "id": "_d-23s_yR4x8"
      },
      "source": [
        "!zip -r neural-net-handwriting-synthesis/antoinedandi-handwriting-generation/0420_163431.zip neural-net-handwriting-synthesis/antoinedandi-handwriting-generation/saved/models/GravesModel/0420_163431/"
      ],
      "execution_count": null,
      "outputs": []
    },
    {
      "cell_type": "code",
      "metadata": {
        "id": "uk2a0TugpgT1"
      },
      "source": [
        "%tensorboard --logdir neural-net-handwriting-synthesis/antoinedandi-handwriting-generation/saved/log"
      ],
      "execution_count": null,
      "outputs": []
    },
    {
      "cell_type": "code",
      "metadata": {
        "id": "t-rRCJZJTF4x"
      },
      "source": [
        "from google.colab import files\n",
        "files.download(\"neural-net-handwriting-synthesis/antoinedandi-handwriting-generation/0419_152420.zip\")"
      ],
      "execution_count": null,
      "outputs": []
    },
    {
      "cell_type": "code",
      "metadata": {
        "id": "jrA-nRjxTd9k"
      },
      "source": [
        "from google.colab import auth\n",
        "from googleapiclient.http import MediaFileUpload\n",
        "from googleapiclient.discovery import build\n",
        "\n",
        "auth.authenticate_user()"
      ],
      "execution_count": null,
      "outputs": []
    },
    {
      "cell_type": "code",
      "metadata": {
        "id": "KwaPYafhTls4"
      },
      "source": [
        "drive_service = build('drive', 'v3')\n",
        "\n",
        "def save_file_to_drive(name, path):\n",
        "    file_metadata = {\n",
        "      'name': name,\n",
        "      'mimeType': 'application/octet-stream'\n",
        "    }\n",
        "\n",
        "    media = MediaFileUpload(path, \n",
        "                    mimetype='application/octet-stream',\n",
        "                    resumable=True)\n",
        "\n",
        "    created = drive_service.files().create(body=file_metadata,\n",
        "                                   media_body=media,\n",
        "                                   fields='id').execute()\n",
        "\n",
        "    print('File ID: {}'.format(created.get('id')))\n",
        "\n",
        "    return created"
      ],
      "execution_count": null,
      "outputs": []
    },
    {
      "cell_type": "code",
      "metadata": {
        "id": "cCLy6XUd1iwi"
      },
      "source": [
        "import os.path\n",
        "from os import path"
      ],
      "execution_count": null,
      "outputs": []
    },
    {
      "cell_type": "code",
      "metadata": {
        "id": "RjvONBUfsJ2P"
      },
      "source": [
        "save_file_to_drive(f\"Colab/neural-net-handwriting-synthesis\\0420_163431_graves_gauss_125.zip\", f\"neural-net-handwriting-synthesis/antoinedandi-handwriting-generation/0420_163431.zip\")"
      ],
      "execution_count": null,
      "outputs": []
    },
    {
      "cell_type": "code",
      "metadata": {
        "id": "1r4cUtCLTwPQ"
      },
      "source": [
        "for i in range(1, 50 + 1):\n",
        "  file = f\"neural-net-handwriting-synthesis/antoinedandi-handwriting-generation/Graves_epoch{i}.png\"\n",
        "  if path.exists(file):\n",
        "    save_file_to_drive(f\"Colab/neural-net-handwriting-synthesis/Graves_epoch{i}.png\", file)"
      ],
      "execution_count": null,
      "outputs": []
    }
  ]
}